{
 "cells": [
  {
   "cell_type": "markdown",
   "metadata": {},
   "source": [
    "# GAPF for the UCI Adult Data Set"
   ]
  },
  {
   "cell_type": "code",
   "execution_count": 239,
   "metadata": {
    "colab": {
     "base_uri": "https://localhost:8080/",
     "height": 34
    },
    "colab_type": "code",
    "id": "vZlT-sXHCj6D",
    "outputId": "e33998cc-0125-4fde-9896-a17d4bb1b338"
   },
   "outputs": [],
   "source": [
    "import torch\n",
    "import torch.utils.data\n",
    "import pandas as pd\n",
    "import numpy as np\n",
    "import matplotlib.pyplot as plt\n",
    "from sklearn import preprocessing\n",
    "\n",
    "device = torch.device('cpu')"
   ]
  },
  {
   "cell_type": "code",
   "execution_count": 240,
   "metadata": {
    "colab": {},
    "colab_type": "code",
    "id": "-SLmaTAYCnVl"
   },
   "outputs": [
    {
     "name": "stderr",
     "output_type": "stream",
     "text": [
      "/home/alex/.local/lib/python3.6/site-packages/ipykernel_launcher.py:1: ParserWarning: Falling back to the 'python' engine because the 'c' engine does not support regex separators (separators > 1 char and different from '\\s+' are interpreted as regex); you can avoid this warning by specifying engine='python'.\n",
      "  \"\"\"Entry point for launching an IPython kernel.\n"
     ]
    },
    {
     "data": {
      "text/html": [
       "<div>\n",
       "<style scoped>\n",
       "    .dataframe tbody tr th:only-of-type {\n",
       "        vertical-align: middle;\n",
       "    }\n",
       "\n",
       "    .dataframe tbody tr th {\n",
       "        vertical-align: top;\n",
       "    }\n",
       "\n",
       "    .dataframe thead th {\n",
       "        text-align: right;\n",
       "    }\n",
       "</style>\n",
       "<table border=\"1\" class=\"dataframe\">\n",
       "  <thead>\n",
       "    <tr style=\"text-align: right;\">\n",
       "      <th></th>\n",
       "      <th>age</th>\n",
       "      <th>workclass</th>\n",
       "      <th>fnlwgt</th>\n",
       "      <th>education</th>\n",
       "      <th>education-num</th>\n",
       "      <th>marital-status</th>\n",
       "      <th>occupation</th>\n",
       "      <th>relationship</th>\n",
       "      <th>race</th>\n",
       "      <th>sex</th>\n",
       "      <th>capital-gain</th>\n",
       "      <th>capital-loss</th>\n",
       "      <th>hours-per-week</th>\n",
       "      <th>native-country</th>\n",
       "      <th>class</th>\n",
       "    </tr>\n",
       "  </thead>\n",
       "  <tbody>\n",
       "    <tr>\n",
       "      <th>0</th>\n",
       "      <td>39</td>\n",
       "      <td>State-gov</td>\n",
       "      <td>77516</td>\n",
       "      <td>Bachelors</td>\n",
       "      <td>13</td>\n",
       "      <td>Never-married</td>\n",
       "      <td>Adm-clerical</td>\n",
       "      <td>Not-in-family</td>\n",
       "      <td>White</td>\n",
       "      <td>Male</td>\n",
       "      <td>2174</td>\n",
       "      <td>0</td>\n",
       "      <td>40</td>\n",
       "      <td>United-States</td>\n",
       "      <td>&lt;=50K</td>\n",
       "    </tr>\n",
       "    <tr>\n",
       "      <th>1</th>\n",
       "      <td>50</td>\n",
       "      <td>Self-emp-not-inc</td>\n",
       "      <td>83311</td>\n",
       "      <td>Bachelors</td>\n",
       "      <td>13</td>\n",
       "      <td>Married-civ-spouse</td>\n",
       "      <td>Exec-managerial</td>\n",
       "      <td>Husband</td>\n",
       "      <td>White</td>\n",
       "      <td>Male</td>\n",
       "      <td>0</td>\n",
       "      <td>0</td>\n",
       "      <td>13</td>\n",
       "      <td>United-States</td>\n",
       "      <td>&lt;=50K</td>\n",
       "    </tr>\n",
       "    <tr>\n",
       "      <th>2</th>\n",
       "      <td>38</td>\n",
       "      <td>Private</td>\n",
       "      <td>215646</td>\n",
       "      <td>HS-grad</td>\n",
       "      <td>9</td>\n",
       "      <td>Divorced</td>\n",
       "      <td>Handlers-cleaners</td>\n",
       "      <td>Not-in-family</td>\n",
       "      <td>White</td>\n",
       "      <td>Male</td>\n",
       "      <td>0</td>\n",
       "      <td>0</td>\n",
       "      <td>40</td>\n",
       "      <td>United-States</td>\n",
       "      <td>&lt;=50K</td>\n",
       "    </tr>\n",
       "    <tr>\n",
       "      <th>3</th>\n",
       "      <td>53</td>\n",
       "      <td>Private</td>\n",
       "      <td>234721</td>\n",
       "      <td>11th</td>\n",
       "      <td>7</td>\n",
       "      <td>Married-civ-spouse</td>\n",
       "      <td>Handlers-cleaners</td>\n",
       "      <td>Husband</td>\n",
       "      <td>Black</td>\n",
       "      <td>Male</td>\n",
       "      <td>0</td>\n",
       "      <td>0</td>\n",
       "      <td>40</td>\n",
       "      <td>United-States</td>\n",
       "      <td>&lt;=50K</td>\n",
       "    </tr>\n",
       "    <tr>\n",
       "      <th>4</th>\n",
       "      <td>28</td>\n",
       "      <td>Private</td>\n",
       "      <td>338409</td>\n",
       "      <td>Bachelors</td>\n",
       "      <td>13</td>\n",
       "      <td>Married-civ-spouse</td>\n",
       "      <td>Prof-specialty</td>\n",
       "      <td>Wife</td>\n",
       "      <td>Black</td>\n",
       "      <td>Female</td>\n",
       "      <td>0</td>\n",
       "      <td>0</td>\n",
       "      <td>40</td>\n",
       "      <td>Cuba</td>\n",
       "      <td>&lt;=50K</td>\n",
       "    </tr>\n",
       "  </tbody>\n",
       "</table>\n",
       "</div>"
      ],
      "text/plain": [
       "   age         workclass  fnlwgt  education  education-num  \\\n",
       "0   39         State-gov   77516  Bachelors             13   \n",
       "1   50  Self-emp-not-inc   83311  Bachelors             13   \n",
       "2   38           Private  215646    HS-grad              9   \n",
       "3   53           Private  234721       11th              7   \n",
       "4   28           Private  338409  Bachelors             13   \n",
       "\n",
       "       marital-status         occupation   relationship   race     sex  \\\n",
       "0       Never-married       Adm-clerical  Not-in-family  White    Male   \n",
       "1  Married-civ-spouse    Exec-managerial        Husband  White    Male   \n",
       "2            Divorced  Handlers-cleaners  Not-in-family  White    Male   \n",
       "3  Married-civ-spouse  Handlers-cleaners        Husband  Black    Male   \n",
       "4  Married-civ-spouse     Prof-specialty           Wife  Black  Female   \n",
       "\n",
       "   capital-gain  capital-loss  hours-per-week native-country  class  \n",
       "0          2174             0              40  United-States  <=50K  \n",
       "1             0             0              13  United-States  <=50K  \n",
       "2             0             0              40  United-States  <=50K  \n",
       "3             0             0              40  United-States  <=50K  \n",
       "4             0             0              40           Cuba  <=50K  "
      ]
     },
     "execution_count": 240,
     "metadata": {},
     "output_type": "execute_result"
    }
   ],
   "source": [
    "data = pd.read_csv(\"./data/adult.data\", sep=\", \")\n",
    "data.head()"
   ]
  },
  {
   "cell_type": "code",
   "execution_count": 241,
   "metadata": {},
   "outputs": [],
   "source": [
    "X = data.drop(['class', 'fnlwgt', 'capital-loss', 'capital-gain'], axis=1)"
   ]
  },
  {
   "cell_type": "code",
   "execution_count": 242,
   "metadata": {},
   "outputs": [],
   "source": [
    "encoders = {}\n",
    "X_num = X.copy()\n",
    "\n",
    "for col in X_num.columns.tolist():\n",
    "    if X_num[col].dtype == object:\n",
    "        encoders[col] = preprocessing.LabelEncoder().fit(X_num[col])\n",
    "        X_num[col] = encoders[col].transform(X_num[col])\n",
    "X_num = X_num.drop(['race'], axis=1)\n",
    "\n",
    "y = data['class'].copy()\n",
    "y = y.replace(\"<=50K\", 0)\n",
    "y = y.replace(\">50K\", 1)\n",
    "\n",
    "s = encoders['race'].transform(X['race'])"
   ]
  },
  {
   "cell_type": "markdown",
   "metadata": {
    "colab_type": "text",
    "id": "0MGvrk4gDQdm"
   },
   "source": [
    "## Create Tensors"
   ]
  },
  {
   "cell_type": "code",
   "execution_count": 243,
   "metadata": {},
   "outputs": [
    {
     "name": "stdout",
     "output_type": "stream",
     "text": [
      "X torch.Size([32561, 10]) X_noised torch.Size([32561, 15]) s (32561,) y (32561,)\n"
     ]
    }
   ],
   "source": [
    "X_tensor = torch.tensor(X_num.values, device=device).double()\n",
    "noise = torch.randn([X_tensor.shape[0], 5], device=device).double()\n",
    "X_noised = torch.cat((X_tensor, noise), 1)\n",
    "\n",
    "s_tensor = torch.tensor(s, device=device).double().unsqueeze(1)\n",
    "y_tensor = torch.tensor(y.values, device=device).double().unsqueeze(1)\n",
    "print(\"X\", X_tensor.shape, \"X_noised\", X_noised.shape, \"s\", s.shape, \"y\", y.shape)"
   ]
  },
  {
   "cell_type": "markdown",
   "metadata": {
    "colab_type": "text",
    "id": "H0KYrZGdD7OD"
   },
   "source": [
    "## Create Models\n",
    "\n",
    "Since we only have 10 features, only append a size 5 vector of noise"
   ]
  },
  {
   "cell_type": "code",
   "execution_count": 244,
   "metadata": {
    "colab": {},
    "colab_type": "code",
    "id": "8X4g8jkhDkw_"
   },
   "outputs": [],
   "source": [
    "model_gen = torch.nn.Sequential(\n",
    "          # Layer 1 - 15 -> 128\n",
    "          torch.nn.Linear(15, 128),\n",
    "          torch.nn.LeakyReLU(),\n",
    "          torch.nn.BatchNorm1d(128),\n",
    "          # Layer 2 - 128 -> 254\n",
    "          torch.nn.Linear(128, 256),\n",
    "          torch.nn.LeakyReLU(),\n",
    "          torch.nn.BatchNorm1d(256),\n",
    "          # Layer 3 - 256 -> 256\n",
    "          torch.nn.Linear(256, 256),\n",
    "          torch.nn.LeakyReLU(),\n",
    "          torch.nn.BatchNorm1d(256),\n",
    "          # Output\n",
    "          torch.nn.Linear(256, 10),\n",
    "        ).to(device)\n",
    "\n",
    "model_adv = torch.nn.Sequential(\n",
    "          # Layer 1 - 10 -> 128\n",
    "          torch.nn.Linear(10, 128),\n",
    "          torch.nn.LeakyReLU(),\n",
    "          torch.nn.BatchNorm1d(128),\n",
    "          # Layer 2 - 128 -> 256\n",
    "          torch.nn.Linear(128, 256),\n",
    "          torch.nn.LeakyReLU(),\n",
    "          torch.nn.BatchNorm1d(256),\n",
    "          # Layer 3 - 256 -> 256\n",
    "          torch.nn.Linear(256, 256),\n",
    "          torch.nn.LeakyReLU(),\n",
    "          torch.nn.BatchNorm1d(256),\n",
    "          # Layer 4 - 256 -> 128\n",
    "          torch.nn.Linear(256, 128),\n",
    "          torch.nn.LeakyReLU(),\n",
    "          torch.nn.BatchNorm1d(128),\n",
    "          # Output - 128 -> 5\n",
    "          torch.nn.Linear(128, 5),\n",
    "        ).to(device)\n",
    "\n",
    "model_class = torch.nn.Sequential(\n",
    "          # Layer 1 - 10 -> 128\n",
    "          torch.nn.Linear(10, 128),\n",
    "          torch.nn.LeakyReLU(),\n",
    "          torch.nn.BatchNorm1d(128),\n",
    "          # Layer 2 - 128 -> 256\n",
    "          torch.nn.Linear(128, 256),\n",
    "          torch.nn.LeakyReLU(),\n",
    "          torch.nn.BatchNorm1d(256),\n",
    "          # Layer 3 - 256 -> 256\n",
    "          torch.nn.Linear(256, 256),\n",
    "          torch.nn.LeakyReLU(),\n",
    "          torch.nn.BatchNorm1d(256),\n",
    "          # Layer 4 - 256 -> 128\n",
    "          torch.nn.Linear(256, 128),\n",
    "          torch.nn.LeakyReLU(),\n",
    "          torch.nn.BatchNorm1d(128),\n",
    "          # Output - 128 -> 2\n",
    "          torch.nn.Linear(128, 2),\n",
    "        ).to(device)"
   ]
  },
  {
   "cell_type": "code",
   "execution_count": 245,
   "metadata": {
    "colab": {},
    "colab_type": "code",
    "id": "UoBSQqTDEPTj"
   },
   "outputs": [],
   "source": [
    "optim_gen = torch.optim.Adam(model_gen.parameters())\n",
    "loss_gen = torch.nn.CrossEntropyLoss()\n",
    "\n",
    "optim_adv = torch.optim.Adam(model_adv.parameters())\n",
    "loss_adv = torch.nn.CrossEntropyLoss()\n",
    "\n",
    "optim_class = torch.optim.Adam(model_class.parameters())\n",
    "loss_class = torch.nn.CrossEntropyLoss()"
   ]
  },
  {
   "cell_type": "markdown",
   "metadata": {
    "colab_type": "text",
    "id": "tELOv3FsFt63"
   },
   "source": [
    "## Train Adversarially"
   ]
  },
  {
   "cell_type": "code",
   "execution_count": null,
   "metadata": {
    "colab": {
     "base_uri": "https://localhost:8080/",
     "height": 1129
    },
    "colab_type": "code",
    "id": "TFepEWbJaWeb",
    "outputId": "7b251e4c-5f81-4025-fa49-9b5b8ed4087b"
   },
   "outputs": [
    {
     "name": "stdout",
     "output_type": "stream",
     "text": [
      "Epoch:  0\n",
      "Gen loss:  77.08649444580078\n",
      "Gen loss:  68.6943588256836\n",
      "Gen loss:  50.78035354614258\n",
      "Gen loss:  23.36484146118164\n",
      "Gen loss:  1.7554810047149658\n",
      "Adv loss:  1.3211244344711304\n",
      "\n",
      "\n",
      "Epoch:  1\n",
      "Gen loss:  0.02722461149096489\n",
      "Gen loss:  0.5285970568656921\n",
      "Gen loss:  -0.1895490288734436\n",
      "Gen loss:  0.2655050456523895\n",
      "Gen loss:  -0.13246643543243408\n",
      "Adv loss:  0.6096600890159607\n",
      "\n",
      "\n",
      "Epoch:  2\n",
      "Gen loss:  0.04783829301595688\n",
      "Gen loss:  -0.14284808933734894\n",
      "Gen loss:  -0.09675586968660355\n",
      "Gen loss:  0.2007787972688675\n",
      "Gen loss:  -0.20187032222747803\n",
      "Adv loss:  0.5047168135643005\n",
      "\n",
      "\n",
      "Epoch:  3\n",
      "Gen loss:  -0.05253226310014725\n",
      "Gen loss:  -0.02934528887271881\n",
      "Gen loss:  -0.13622069358825684\n",
      "Gen loss:  0.001963438466191292\n",
      "Gen loss:  0.11502093821763992\n"
     ]
    }
   ],
   "source": [
    "NUM_EPOCHS_GEN = 5\n",
    "NUM_EPOCHS_ADV = 1\n",
    "NUM_TOTAL_ITER = 5\n",
    "DISTORTION_WEIGHT = 0.05\n",
    "D = 3\n",
    "\n",
    "train_loader = torch.utils.data.DataLoader(\n",
    "    torch.cat((X_noised, s_tensor), 1), \n",
    "    batch_size=512, \n",
    "    shuffle=True)\n",
    "\n",
    "loss_by_epoch_g = []\n",
    "loss_by_epoch_a = []\n",
    "\n",
    "for epoch in range(NUM_TOTAL_ITER):\n",
    "    print(\"Epoch: \", epoch)\n",
    "    \n",
    "    for j in range(NUM_EPOCHS_GEN):\n",
    "        total_loss_g = 0\n",
    "        total_loss_d = 0\n",
    "        num = 0\n",
    "        for batch in train_loader:\n",
    "            x, s = batch[:, 0:-1], batch[:, -1].long()\n",
    "            x_hat = model_gen(x.float())\n",
    "            adv_pred = model_adv(x_hat.float())\n",
    "\n",
    "            loss_g = -loss_adv(adv_pred, s)\n",
    "            dist_loss = torch.dist(x_hat, x[:, 0:10].float()) * DISTORTION_WEIGHT\n",
    "            if dist_loss < D:\n",
    "                dist_loss = 0\n",
    "\n",
    "            total_loss_d += dist_loss\n",
    "            loss_g += dist_loss\n",
    "\n",
    "            num += 1\n",
    "            total_loss_g += loss_g\n",
    "\n",
    "            optim_gen.zero_grad()\n",
    "            loss_g.backward()\n",
    "            optim_gen.step()\n",
    "        epch_loss = (total_loss_g/num).item()\n",
    "        loss_by_epoch_g.append(epch_loss)\n",
    "        print(\"Gen loss: \", epch_loss)\n",
    "\n",
    "    for j in range(NUM_EPOCHS_ADV):\n",
    "        total_loss_a = 0\n",
    "        num = 0\n",
    "        for batch in train_loader:\n",
    "            x, s = batch[:, 0:-1], batch[:, -1].long()\n",
    "\n",
    "            x_hat = model_gen(x.float())\n",
    "\n",
    "            s_pred = model_adv(x_hat)\n",
    "\n",
    "            loss_a = loss_adv(s_pred, s)\n",
    "            num += 1\n",
    "            total_loss_a += loss_a\n",
    "\n",
    "            optim_adv.zero_grad()\n",
    "            loss_a.backward(retain_graph=True)\n",
    "            optim_adv.step()\n",
    "        epch_loss = (total_loss_a/num).item()\n",
    "        loss_by_epoch_a.append(epch_loss)\n",
    "        print(\"Adv loss: \", (total_loss_a/num).item())\n",
    "        print(\"\\n\")  "
   ]
  },
  {
   "cell_type": "code",
   "execution_count": 235,
   "metadata": {
    "colab": {
     "base_uri": "https://localhost:8080/",
     "height": 428
    },
    "colab_type": "code",
    "id": "u7cKU9akwXbZ",
    "outputId": "e1afac70-7c20-46fe-c780-84e623272e03"
   },
   "outputs": [
    {
     "data": {
      "text/plain": [
       "[<matplotlib.lines.Line2D at 0x7f06d1d85f60>]"
      ]
     },
     "execution_count": 235,
     "metadata": {},
     "output_type": "execute_result"
    },
    {
     "data": {
      "image/png": "[encoded data removed]",
      "text/plain": [
       "<Figure size 432x288 with 1 Axes>"
      ]
     },
     "metadata": {
      "needs_background": "light"
     },
     "output_type": "display_data"
    }
   ],
   "source": [
    "ax = plt.axes()\n",
    "ax.set(xlabel=\"Epochs\", ylabel=\"Generator Loss\", Title=\"Generator Loss Curve W/ D=7\")\n",
    "ax.plot(range(NUM_TOTAL_ITER * NUM_EPOCHS_GEN), loss_by_epoch_g)"
   ]
  },
  {
   "cell_type": "code",
   "execution_count": 236,
   "metadata": {
    "colab": {
     "base_uri": "https://localhost:8080/",
     "height": 428
    },
    "colab_type": "code",
    "id": "FjHnjopBwzDq",
    "outputId": "af8e3423-1e7f-490c-b4c1-2f648e1e0678"
   },
   "outputs": [
    {
     "data": {
      "text/plain": [
       "[<matplotlib.lines.Line2D at 0x7f06d1ccddd8>]"
      ]
     },
     "execution_count": 236,
     "metadata": {},
     "output_type": "execute_result"
    },
    {
     "data": {
      "image/png": "[encoded data removed]",
      "text/plain": [
       "<Figure size 432x288 with 1 Axes>"
      ]
     },
     "metadata": {
      "needs_background": "light"
     },
     "output_type": "display_data"
    }
   ],
   "source": [
    "ax = plt.axes()\n",
    "ax.set(xlabel=\"Epochs\", ylabel=\"Generator Loss\", Title=\"Generator Loss Curve W/ D=7\")\n",
    "ax.plot(range(NUM_TOTAL_ITER * NUM_EPOCHS_ADV), loss_by_epoch_a)"
   ]
  },
  {
   "cell_type": "markdown",
   "metadata": {
    "colab_type": "text",
    "id": "tGuCZ_g2NJeB"
   },
   "source": [
    "# Testing\n",
    "## Test Adversary before and after decorrelation"
   ]
  },
  {
   "cell_type": "code",
   "execution_count": 237,
   "metadata": {
    "colab": {
     "base_uri": "https://localhost:8080/",
     "height": 34
    },
    "colab_type": "code",
    "id": "mvY9HkCNOUGP",
    "outputId": "4255bdba-9ab8-49ad-a889-bcff6f8ec594"
   },
   "outputs": [
    {
     "name": "stdout",
     "output_type": "stream",
     "text": [
      "0.8570682718589724\n"
     ]
    }
   ],
   "source": [
    "out_class = model_adv(X_tensor.float())\n",
    "v, i = torch.max(out_class, 1)\n",
    "print((s_tensor.squeeze().int() == i.int()).nonzero().shape[0]/s_tensor.shape[0])"
   ]
  },
  {
   "cell_type": "code",
   "execution_count": 238,
   "metadata": {
    "colab": {
     "base_uri": "https://localhost:8080/",
     "height": 34
    },
    "colab_type": "code",
    "id": "vv1BVNCJNM2h",
    "outputId": "6f34084f-e440-4813-e493-d86b77199461"
   },
   "outputs": [
    {
     "name": "stdout",
     "output_type": "stream",
     "text": [
      "0.8563619053468874\n"
     ]
    }
   ],
   "source": [
    "gen_noised = model_gen(noised_tensor.float())\n",
    "\n",
    "out_class = model_adv(gen_noised.float())\n",
    "v, i = torch.max(out_class, 1)\n",
    "print((s_tensor.squeeze().int() == i.int()).nonzero().shape[0]/s_tensor.shape[0])"
   ]
  },
  {
   "cell_type": "markdown",
   "metadata": {
    "colab_type": "text",
    "id": "xU2EPwMrNNc7"
   },
   "source": [
    "## Test Classifier Before and After Decorrelation"
   ]
  },
  {
   "cell_type": "markdown",
   "metadata": {
    "colab_type": "text",
    "id": "iXp6RnXLPUQa"
   },
   "source": [
    "### Before"
   ]
  },
  {
   "cell_type": "code",
   "execution_count": 204,
   "metadata": {
    "colab": {
     "base_uri": "https://localhost:8080/",
     "height": 384
    },
    "colab_type": "code",
    "id": "tQgO2UqtNPfQ",
    "outputId": "b6ff98a8-7720-4078-fe34-39d081383fe6"
   },
   "outputs": [
    {
     "name": "stdout",
     "output_type": "stream",
     "text": [
      "loss:  0.7499217987060547\n",
      "loss:  0.7505937814712524\n",
      "loss:  0.7509123682975769\n",
      "loss:  0.7507186532020569\n",
      "loss:  0.7503775954246521\n",
      "loss:  0.7497855424880981\n",
      "loss:  0.7501169443130493\n",
      "loss:  0.7505664825439453\n",
      "loss:  0.7501558661460876\n",
      "loss:  0.7504795789718628\n",
      "loss:  0.7501490116119385\n",
      "loss:  0.75031578540802\n",
      "loss:  0.7502710223197937\n",
      "loss:  0.750315248966217\n",
      "loss:  0.7500293850898743\n",
      "loss:  0.7500274777412415\n",
      "loss:  0.7504754662513733\n",
      "loss:  0.7498048543930054\n",
      "loss:  0.7501707673072815\n",
      "loss:  0.750838577747345\n"
     ]
    }
   ],
   "source": [
    "class_loader = torch.utils.data.DataLoader(\n",
    "    torch.cat((X_tensor, y_tensor), 1), \n",
    "    batch_size=512, \n",
    "    shuffle=True)\n",
    "\n",
    "for epoch in range(20):\n",
    "    loss_avg = 0\n",
    "    num = 0\n",
    "    for batch in class_loader:\n",
    "        x, y = batch[:, 0:-1], batch[:, -1]\n",
    "        y_pred = model_class(x.float())\n",
    "\n",
    "        loss = loss_class(y_pred, y.long())\n",
    "        loss_avg += loss\n",
    "        num += 1\n",
    "\n",
    "        optim_class.zero_grad()\n",
    "        loss.backward()\n",
    "        optim_class.step()\n",
    "    print(\"loss: \", (loss_avg/num).item())"
   ]
  },
  {
   "cell_type": "code",
   "execution_count": 207,
   "metadata": {
    "colab": {
     "base_uri": "https://localhost:8080/",
     "height": 34
    },
    "colab_type": "code",
    "id": "WPK7X3LHOALe",
    "outputId": "ab426802-8d5c-4d90-a28e-4ca1054cd7fd"
   },
   "outputs": [
    {
     "name": "stdout",
     "output_type": "stream",
     "text": [
      "0.4322041706335801\n"
     ]
    }
   ],
   "source": [
    "out_class = model_class(X_tensor.float())\n",
    "v, i = torch.max(out_class, 1)\n",
    "print((y_tensor.squeeze().int() == i.int()).nonzero().shape[0]/y_tensor.shape[0])"
   ]
  },
  {
   "cell_type": "markdown",
   "metadata": {
    "colab_type": "text",
    "id": "fVJmzScUPWRV"
   },
   "source": [
    "### After"
   ]
  },
  {
   "cell_type": "code",
   "execution_count": 209,
   "metadata": {
    "colab": {
     "base_uri": "https://localhost:8080/",
     "height": 367
    },
    "colab_type": "code",
    "id": "9pN8lxieOnt0",
    "outputId": "9360182c-8ef4-433c-9c52-2501e886b19b"
   },
   "outputs": [
    {
     "name": "stdout",
     "output_type": "stream",
     "text": [
      "loss:  0.5618746876716614\n"
     ]
    },
    {
     "ename": "KeyboardInterrupt",
     "evalue": "",
     "output_type": "error",
     "traceback": [
      "\u001b[0;31m---------------------------------------------------------------------------\u001b[0m",
      "\u001b[0;31mKeyboardInterrupt\u001b[0m                         Traceback (most recent call last)",
      "\u001b[0;32m<ipython-input-209-fb3ba01c8672>\u001b[0m in \u001b[0;36m<module>\u001b[0;34m\u001b[0m\n\u001b[1;32m     42\u001b[0m \u001b[0;34m\u001b[0m\u001b[0m\n\u001b[1;32m     43\u001b[0m         \u001b[0moptim_class\u001b[0m\u001b[0;34m.\u001b[0m\u001b[0mzero_grad\u001b[0m\u001b[0;34m(\u001b[0m\u001b[0;34m)\u001b[0m\u001b[0;34m\u001b[0m\u001b[0;34m\u001b[0m\u001b[0m\n\u001b[0;32m---> 44\u001b[0;31m         \u001b[0mloss\u001b[0m\u001b[0;34m.\u001b[0m\u001b[0mbackward\u001b[0m\u001b[0;34m(\u001b[0m\u001b[0mretain_graph\u001b[0m\u001b[0;34m=\u001b[0m\u001b[0;32mTrue\u001b[0m\u001b[0;34m)\u001b[0m\u001b[0;34m\u001b[0m\u001b[0;34m\u001b[0m\u001b[0m\n\u001b[0m\u001b[1;32m     45\u001b[0m         \u001b[0moptim_class\u001b[0m\u001b[0;34m.\u001b[0m\u001b[0mstep\u001b[0m\u001b[0;34m(\u001b[0m\u001b[0;34m)\u001b[0m\u001b[0;34m\u001b[0m\u001b[0;34m\u001b[0m\u001b[0m\n\u001b[1;32m     46\u001b[0m     \u001b[0mprint\u001b[0m\u001b[0;34m(\u001b[0m\u001b[0;34m\"loss: \"\u001b[0m\u001b[0;34m,\u001b[0m \u001b[0;34m(\u001b[0m\u001b[0mloss_avg\u001b[0m\u001b[0;34m/\u001b[0m\u001b[0mnum\u001b[0m\u001b[0;34m)\u001b[0m\u001b[0;34m.\u001b[0m\u001b[0mitem\u001b[0m\u001b[0;34m(\u001b[0m\u001b[0;34m)\u001b[0m\u001b[0;34m)\u001b[0m\u001b[0;34m\u001b[0m\u001b[0;34m\u001b[0m\u001b[0m\n",
      "\u001b[0;32m~/.local/lib/python3.6/site-packages/torch/tensor.py\u001b[0m in \u001b[0;36mbackward\u001b[0;34m(self, gradient, retain_graph, create_graph)\u001b[0m\n\u001b[1;32m     91\u001b[0m                 \u001b[0mproducts\u001b[0m\u001b[0;34m.\u001b[0m \u001b[0mDefaults\u001b[0m \u001b[0mto\u001b[0m\u001b[0;31m \u001b[0m\u001b[0;31m`\u001b[0m\u001b[0;31m`\u001b[0m\u001b[0;32mFalse\u001b[0m\u001b[0;31m`\u001b[0m\u001b[0;31m`\u001b[0m\u001b[0;34m.\u001b[0m\u001b[0;34m\u001b[0m\u001b[0;34m\u001b[0m\u001b[0m\n\u001b[1;32m     92\u001b[0m         \"\"\"\n\u001b[0;32m---> 93\u001b[0;31m         \u001b[0mtorch\u001b[0m\u001b[0;34m.\u001b[0m\u001b[0mautograd\u001b[0m\u001b[0;34m.\u001b[0m\u001b[0mbackward\u001b[0m\u001b[0;34m(\u001b[0m\u001b[0mself\u001b[0m\u001b[0;34m,\u001b[0m \u001b[0mgradient\u001b[0m\u001b[0;34m,\u001b[0m \u001b[0mretain_graph\u001b[0m\u001b[0;34m,\u001b[0m \u001b[0mcreate_graph\u001b[0m\u001b[0;34m)\u001b[0m\u001b[0;34m\u001b[0m\u001b[0;34m\u001b[0m\u001b[0m\n\u001b[0m\u001b[1;32m     94\u001b[0m \u001b[0;34m\u001b[0m\u001b[0m\n\u001b[1;32m     95\u001b[0m     \u001b[0;32mdef\u001b[0m \u001b[0mregister_hook\u001b[0m\u001b[0;34m(\u001b[0m\u001b[0mself\u001b[0m\u001b[0;34m,\u001b[0m \u001b[0mhook\u001b[0m\u001b[0;34m)\u001b[0m\u001b[0;34m:\u001b[0m\u001b[0;34m\u001b[0m\u001b[0;34m\u001b[0m\u001b[0m\n",
      "\u001b[0;32m~/.local/lib/python3.6/site-packages/torch/autograd/__init__.py\u001b[0m in \u001b[0;36mbackward\u001b[0;34m(tensors, grad_tensors, retain_graph, create_graph, grad_variables)\u001b[0m\n\u001b[1;32m     88\u001b[0m     Variable._execution_engine.run_backward(\n\u001b[1;32m     89\u001b[0m         \u001b[0mtensors\u001b[0m\u001b[0;34m,\u001b[0m \u001b[0mgrad_tensors\u001b[0m\u001b[0;34m,\u001b[0m \u001b[0mretain_graph\u001b[0m\u001b[0;34m,\u001b[0m \u001b[0mcreate_graph\u001b[0m\u001b[0;34m,\u001b[0m\u001b[0;34m\u001b[0m\u001b[0;34m\u001b[0m\u001b[0m\n\u001b[0;32m---> 90\u001b[0;31m         allow_unreachable=True)  # allow_unreachable flag\n\u001b[0m\u001b[1;32m     91\u001b[0m \u001b[0;34m\u001b[0m\u001b[0m\n\u001b[1;32m     92\u001b[0m \u001b[0;34m\u001b[0m\u001b[0m\n",
      "\u001b[0;31mKeyboardInterrupt\u001b[0m: "
     ]
    }
   ],
   "source": [
    "model_class = torch.nn.Sequential(\n",
    "          # Layer 1 - 10 -> 128\n",
    "          torch.nn.Linear(10, 128),\n",
    "          torch.nn.LeakyReLU(),\n",
    "          torch.nn.BatchNorm1d(128),\n",
    "          # Layer 2 - 128 -> 256\n",
    "          torch.nn.Linear(128, 256),\n",
    "          torch.nn.LeakyReLU(),\n",
    "          torch.nn.BatchNorm1d(256),\n",
    "          # Layer 3 - 256 -> 256\n",
    "          torch.nn.Linear(256, 256),\n",
    "          torch.nn.LeakyReLU(),\n",
    "          torch.nn.BatchNorm1d(256),\n",
    "          # Layer 4 - 256 -> 128\n",
    "          torch.nn.Linear(256, 128),\n",
    "          torch.nn.LeakyReLU(),\n",
    "          torch.nn.BatchNorm1d(128),\n",
    "          # Output - 128 -> 2\n",
    "          torch.nn.Linear(128, 2),\n",
    "        ).to(device)\n",
    "\n",
    "optim_class = torch.optim.Adam(model_class.parameters())\n",
    "loss_class = torch.nn.CrossEntropyLoss()\n",
    "\n",
    "gen_noised = model_gen(noised_tensor.float())\n",
    "\n",
    "class_loader = torch.utils.data.DataLoader(\n",
    "    torch.cat((gen_noised.float(), y_tensor.float()), 1), \n",
    "    batch_size=512, \n",
    "    shuffle=True)\n",
    "\n",
    "for epoch in range(20):\n",
    "    loss_avg = 0\n",
    "    num = 0\n",
    "    for batch in class_loader:\n",
    "        x, y = batch[:, 0:-1], batch[:, -1]\n",
    "        y_pred = model_class(x.float())\n",
    "\n",
    "        loss = loss_class(y_pred, y.long())\n",
    "        loss_avg += loss\n",
    "        num += 1\n",
    "\n",
    "        optim_class.zero_grad()\n",
    "        loss.backward(retain_graph=True)\n",
    "        optim_class.step()\n",
    "    print(\"loss: \", (loss_avg/num).item())"
   ]
  },
  {
   "cell_type": "code",
   "execution_count": null,
   "metadata": {
    "colab": {
     "base_uri": "https://localhost:8080/",
     "height": 34
    },
    "colab_type": "code",
    "id": "d3jsTYFcPkCl",
    "outputId": "e1e6b410-3444-4e32-b96c-e1c9ef60b19f"
   },
   "outputs": [],
   "source": [
    "out_class = model_class(X_tensor.float())\n",
    "v, i = torch.max(out_class, 1)\n",
    "print((y_tensor.squeeze().int() == i.int()).nonzero().shape[0]/y_tensor.shape[0])"
   ]
  }
 ],
 "metadata": {
  "accelerator": "GPU",
  "colab": {
   "collapsed_sections": [],
   "name": "ICLR Reproducibility Challenge Private and Fair Representations (GAN)",
   "provenance": [],
   "version": "0.3.2"
  },
  "kernelspec": {
   "display_name": "Python 3",
   "language": "python",
   "name": "python3"
  },
  "language_info": {
   "codemirror_mode": {
    "name": "ipython",
    "version": 3
   },
   "file_extension": ".py",
   "mimetype": "text/x-python",
   "name": "python",
   "nbconvert_exporter": "python",
   "pygments_lexer": "ipython3",
   "version": "3.6.7"
  }
 },
 "nbformat": 4,
 "nbformat_minor": 2
}
