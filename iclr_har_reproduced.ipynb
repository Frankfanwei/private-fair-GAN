{
 "cells": [
  {
   "cell_type": "markdown",
   "metadata": {},
   "source": [
    "# GAPF for the UCI HAR Data Set"
   ]
  },
  {
   "cell_type": "code",
   "execution_count": 9,
   "metadata": {
    "colab": {
     "base_uri": "https://localhost:8080/",
     "height": 34
    },
    "colab_type": "code",
    "id": "vZlT-sXHCj6D",
    "outputId": "e33998cc-0125-4fde-9896-a17d4bb1b338"
   },
   "outputs": [],
   "source": [
    "import torch\n",
    "import torch.utils.data\n",
    "import pandas as pd\n",
    "import numpy as np\n",
    "import matplotlib.pyplot as plt\n",
    "\n",
    "device = torch.device('cpu')"
   ]
  },
  {
   "cell_type": "code",
   "execution_count": 2,
   "metadata": {
    "colab": {},
    "colab_type": "code",
    "id": "-SLmaTAYCnVl"
   },
   "outputs": [],
   "source": [
    "X_train = pd.read_csv(\"./data/X_train.txt\", delim_whitespace=True, header=None)\n",
    "y_train = pd.read_csv(\"./data/y_train.txt\", delim_whitespace=True, header=None)\n",
    "s_train = pd.read_csv(\"./data/subject_train.txt\", header=None)\n",
    "\n",
    "X_test = pd.read_csv(\"./data/X_test.txt\", delim_whitespace=True, header=None)\n",
    "y_test = pd.read_csv(\"./data/y_test.txt\", delim_whitespace=True, header=None)\n",
    "s_test = pd.read_csv(\"./data/subject_test.txt\", header=None)"
   ]
  },
  {
   "cell_type": "code",
   "execution_count": 3,
   "metadata": {
    "colab": {},
    "colab_type": "code",
    "id": "I-PNVPAgC94Z"
   },
   "outputs": [],
   "source": [
    "# Change s index to be 0-29 instead of 1-30\n",
    "s_train[0] = s_train[0] - 1\n",
    "s_test[0] = s_test[0] - 1\n",
    "\n",
    "\n",
    "# Change y index to be 0-5 instead of 1-6\n",
    "y_train[0] = y_train[0] - 1\n",
    "y_test[0] = y_test[0] - 1"
   ]
  },
  {
   "cell_type": "markdown",
   "metadata": {
    "colab_type": "text",
    "id": "0MGvrk4gDQdm"
   },
   "source": [
    "## Create Tensors"
   ]
  },
  {
   "cell_type": "code",
   "execution_count": 4,
   "metadata": {
    "colab": {},
    "colab_type": "code",
    "id": "kulwLkttDR6n"
   },
   "outputs": [],
   "source": [
    "# Tensor for the training data and sensitive attribute\n",
    "X_tensor = torch.tensor(X_train.values, device=device).double()\n",
    "s_tensor = torch.tensor(s_train.values, device=device).double()\n",
    "y_tensor = torch.tensor(y_train.values, device=device).double()\n",
    "\n",
    "# Tensor for the testing data and sensitive attribute\n",
    "X_tensor_test = torch.tensor(X_test.values, device=device).double()\n",
    "s_tensor_test = torch.tensor(s_test.values, device=device).double()\n",
    "y_tensor_test = torch.tensor(y_test.values, device=device).double()\n",
    "\n",
    "# Append 100D noise to the training tensor for the generator training\n",
    "noise = torch.randn([X_train.shape[0], 100], device=device).double()\n",
    "noised_tensor = torch.cat((X_tensor, noise), 1)\n",
    "\n",
    "\n",
    "# Append 100D noise to the testing tensor for the generator training\n",
    "noise_test = torch.randn([X_test.shape[0], 100], device=device).double()\n",
    "noised_tensor_test = torch.cat((X_tensor_test, noise_test), 1)"
   ]
  },
  {
   "cell_type": "markdown",
   "metadata": {
    "colab_type": "text",
    "id": "H0KYrZGdD7OD"
   },
   "source": [
    "## Create Models"
   ]
  },
  {
   "cell_type": "code",
   "execution_count": 5,
   "metadata": {
    "colab": {},
    "colab_type": "code",
    "id": "8X4g8jkhDkw_"
   },
   "outputs": [],
   "source": [
    "model_gen = torch.nn.Sequential(\n",
    "          # Layer 1 - 661 -> 512\n",
    "          torch.nn.Linear(661, 512),\n",
    "          torch.nn.LeakyReLU(),\n",
    "          torch.nn.BatchNorm1d(512),\n",
    "          # Layer 2 - 512 -> 512\n",
    "          torch.nn.Linear(512, 512),\n",
    "          torch.nn.LeakyReLU(),\n",
    "          torch.nn.BatchNorm1d(512),\n",
    "          # Layer 3 - 512 -> 512\n",
    "          torch.nn.Linear(512, 512),\n",
    "          torch.nn.LeakyReLU(),\n",
    "          torch.nn.BatchNorm1d(512),\n",
    "          # Output\n",
    "          torch.nn.Linear(512, 561),\n",
    "        ).to(device)\n",
    "\n",
    "model_adv = torch.nn.Sequential(\n",
    "          # Layer 1 - 561 -> 512\n",
    "          torch.nn.Linear(561, 512),\n",
    "          torch.nn.LeakyReLU(),\n",
    "          torch.nn.BatchNorm1d(512),\n",
    "          # Layer 2 - 512 -> 512\n",
    "          torch.nn.Linear(512, 512),\n",
    "          torch.nn.LeakyReLU(),\n",
    "          torch.nn.BatchNorm1d(512),\n",
    "          # Layer 3 - 512 -> 256\n",
    "          torch.nn.Linear(512, 256),\n",
    "          torch.nn.LeakyReLU(),\n",
    "          torch.nn.BatchNorm1d(256),\n",
    "          # Layer 4 - 256 -> 128\n",
    "          torch.nn.Linear(256, 128),\n",
    "          torch.nn.LeakyReLU(),\n",
    "          torch.nn.BatchNorm1d(128),\n",
    "          # Output - 128 -> 30\n",
    "          torch.nn.Linear(128, 30),\n",
    "        ).to(device)\n",
    "\n",
    "model_class = torch.nn.Sequential(\n",
    "          # Layer 1 - 561 -> 512\n",
    "          torch.nn.Linear(561, 512),\n",
    "          torch.nn.LeakyReLU(),\n",
    "          torch.nn.BatchNorm1d(512),\n",
    "          # Layer 2 - 512 -> 512\n",
    "          torch.nn.Linear(512, 512),\n",
    "          torch.nn.LeakyReLU(),\n",
    "          torch.nn.BatchNorm1d(512),\n",
    "          # Layer 3 - 512 -> 256\n",
    "          torch.nn.Linear(512, 256),\n",
    "          torch.nn.LeakyReLU(),\n",
    "          torch.nn.BatchNorm1d(256),\n",
    "          # Layer 4 - 256 -> 128\n",
    "          torch.nn.Linear(256, 128),\n",
    "          torch.nn.LeakyReLU(),\n",
    "          torch.nn.BatchNorm1d(128),\n",
    "          # Output - 128 -> 6\n",
    "          torch.nn.Linear(128, 6),\n",
    "        ).to(device)"
   ]
  },
  {
   "cell_type": "code",
   "execution_count": 6,
   "metadata": {
    "colab": {},
    "colab_type": "code",
    "id": "UoBSQqTDEPTj"
   },
   "outputs": [],
   "source": [
    "optim_gen = torch.optim.Adam(model_gen.parameters())\n",
    "loss_gen = torch.nn.CrossEntropyLoss()\n",
    "\n",
    "optim_adv = torch.optim.Adam(model_adv.parameters())\n",
    "loss_adv = torch.nn.CrossEntropyLoss()\n",
    "\n",
    "optim_class = torch.optim.Adam(model_class.parameters())\n",
    "loss_class = torch.nn.CrossEntropyLoss()"
   ]
  },
  {
   "cell_type": "markdown",
   "metadata": {
    "colab_type": "text",
    "id": "tELOv3FsFt63"
   },
   "source": [
    "## Train Adversarially"
   ]
  },
  {
   "cell_type": "code",
   "execution_count": 8,
   "metadata": {
    "colab": {
     "base_uri": "https://localhost:8080/",
     "height": 1129
    },
    "colab_type": "code",
    "id": "TFepEWbJaWeb",
    "outputId": "7b251e4c-5f81-4025-fa49-9b5b8ed4087b"
   },
   "outputs": [
    {
     "name": "stdout",
     "output_type": "stream",
     "text": [
      "Epoch:  0\n",
      "Gen loss:  2.762157678604126\n",
      "Gen loss:  2.51141357421875\n",
      "Gen loss:  2.312122344970703\n",
      "Gen loss:  2.240082263946533\n",
      "Gen loss:  2.0898985862731934\n",
      "Adv loss:  2.5481252670288086\n",
      "\n",
      "\n",
      "Epoch:  1\n",
      "Gen loss:  2.422478675842285\n",
      "Gen loss:  2.2482078075408936\n",
      "Gen loss:  1.9477498531341553\n",
      "Gen loss:  1.7452876567840576\n",
      "Gen loss:  1.4330785274505615\n",
      "Adv loss:  2.6010947227478027\n",
      "\n",
      "\n",
      "Epoch:  2\n",
      "Gen loss:  2.024982213973999\n",
      "Gen loss:  1.8570753335952759\n",
      "Gen loss:  1.7741703987121582\n",
      "Gen loss:  1.3622417449951172\n",
      "Gen loss:  1.2412155866622925\n",
      "Adv loss:  2.5633740425109863\n",
      "\n",
      "\n",
      "Epoch:  3\n",
      "Gen loss:  1.9792178869247437\n",
      "Gen loss:  1.5203893184661865\n",
      "Gen loss:  1.388076663017273\n",
      "Gen loss:  1.1743031740188599\n",
      "Gen loss:  1.1110395193099976\n",
      "Adv loss:  2.5885751247406006\n",
      "\n",
      "\n",
      "Epoch:  4\n",
      "Gen loss:  1.853046178817749\n",
      "Gen loss:  1.27159583568573\n",
      "Gen loss:  1.2359496355056763\n",
      "Gen loss:  1.122801661491394\n",
      "Gen loss:  1.1580946445465088\n",
      "Adv loss:  2.409184694290161\n",
      "\n",
      "\n",
      "Epoch:  5\n",
      "Gen loss:  1.6467570066452026\n",
      "Gen loss:  1.281262755393982\n",
      "Gen loss:  1.1666918992996216\n",
      "Gen loss:  1.2301603555679321\n",
      "Gen loss:  1.052706241607666\n",
      "Adv loss:  2.3961219787597656\n",
      "\n",
      "\n",
      "Epoch:  6\n",
      "Gen loss:  1.67012619972229\n",
      "Gen loss:  1.123907446861267\n",
      "Gen loss:  1.093499779701233\n",
      "Gen loss:  1.3835617303848267\n",
      "Gen loss:  1.0668824911117554\n",
      "Adv loss:  2.4422051906585693\n",
      "\n",
      "\n",
      "Epoch:  7\n",
      "Gen loss:  1.603769302368164\n",
      "Gen loss:  1.1187775135040283\n",
      "Gen loss:  1.0263421535491943\n",
      "Gen loss:  0.9642760753631592\n",
      "Gen loss:  1.1066428422927856\n",
      "Adv loss:  2.3987770080566406\n",
      "\n",
      "\n",
      "Epoch:  8\n",
      "Gen loss:  1.8775455951690674\n",
      "Gen loss:  1.2592331171035767\n",
      "Gen loss:  1.0407264232635498\n",
      "Gen loss:  1.0213189125061035\n",
      "Gen loss:  1.0473476648330688\n",
      "Adv loss:  2.149685859680176\n",
      "\n",
      "\n",
      "Epoch:  9\n",
      "Gen loss:  1.5012191534042358\n",
      "Gen loss:  1.2176746129989624\n",
      "Gen loss:  1.1047662496566772\n",
      "Gen loss:  1.118321180343628\n",
      "Gen loss:  1.0798571109771729\n",
      "Adv loss:  2.350562572479248\n",
      "\n",
      "\n",
      "Epoch:  10\n",
      "Gen loss:  1.5430141687393188\n",
      "Gen loss:  1.0794142484664917\n",
      "Gen loss:  1.0034548044204712\n",
      "Gen loss:  1.1184430122375488\n",
      "Gen loss:  0.790092408657074\n",
      "Adv loss:  2.437732219696045\n",
      "\n",
      "\n",
      "Epoch:  11\n",
      "Gen loss:  1.4263043403625488\n",
      "Gen loss:  1.0035063028335571\n",
      "Gen loss:  0.8540599942207336\n",
      "Gen loss:  0.8496450781822205\n",
      "Gen loss:  0.7954865097999573\n",
      "Adv loss:  2.1962170600891113\n",
      "\n",
      "\n",
      "Epoch:  12\n",
      "Gen loss:  1.3668867349624634\n",
      "Gen loss:  1.1917405128479004\n",
      "Gen loss:  1.0812898874282837\n",
      "Gen loss:  0.9386550188064575\n",
      "Gen loss:  0.8577883839607239\n",
      "Adv loss:  2.105935573577881\n",
      "\n",
      "\n",
      "Epoch:  13\n",
      "Gen loss:  1.4595106840133667\n",
      "Gen loss:  1.2688050270080566\n",
      "Gen loss:  1.0843498706817627\n",
      "Gen loss:  1.0939112901687622\n",
      "Gen loss:  0.9709745049476624\n",
      "Adv loss:  2.0806996822357178\n",
      "\n",
      "\n",
      "Epoch:  14\n",
      "Gen loss:  1.429165005683899\n",
      "Gen loss:  1.257346272468567\n",
      "Gen loss:  1.0859524011611938\n",
      "Gen loss:  1.0216654539108276\n",
      "Gen loss:  1.0339316129684448\n",
      "Adv loss:  2.1448750495910645\n",
      "\n",
      "\n"
     ]
    }
   ],
   "source": [
    "NUM_EPOCHS_GEN = 5\n",
    "NUM_EPOCHS_ADV = 1\n",
    "NUM_TOTAL_ITER = 15\n",
    "DISTORTION_WEIGHT = 0.1\n",
    "D = 3\n",
    "\n",
    "train_loader = torch.utils.data.DataLoader(\n",
    "    torch.cat((noised_tensor, s_tensor), 1), \n",
    "    batch_size=512, \n",
    "    shuffle=True)\n",
    "\n",
    "loss_by_epoch_g = []\n",
    "loss_by_epoch_a = []\n",
    "\n",
    "for epoch in range(NUM_TOTAL_ITER):\n",
    "  print(\"Epoch: \", epoch)\n",
    "  for j in range(NUM_EPOCHS_GEN):\n",
    "    total_loss_g = 0\n",
    "    total_loss_d = 0\n",
    "    num = 0\n",
    "    for batch in train_loader:\n",
    "      x, s = batch[:, 0:-1], batch[:, -1].long()\n",
    "      x_hat = model_gen(x.float())\n",
    "      adv_pred = model_adv(x_hat.float())\n",
    "\n",
    "    \n",
    "      loss_g = -loss_adv(adv_pred, s)\n",
    "      dist_loss = torch.dist(x_hat, x[:, 0:561].float()) * DISTORTION_WEIGHT\n",
    "      if dist_loss < D:\n",
    "        dist_loss = 0\n",
    "      total_loss_d += dist_loss\n",
    "      \n",
    "      loss_g += dist_loss\n",
    "\n",
    "      num += 1\n",
    "      total_loss_g += loss_g\n",
    "\n",
    "      optim_gen.zero_grad()\n",
    "      loss_g.backward()\n",
    "      optim_gen.step()\n",
    "    epch_loss = (total_loss_g/num).item()\n",
    "    loss_by_epoch_g.append(epch_loss)\n",
    "    print(\"Gen loss: \", epch_loss)\n",
    "    \n",
    "  for j in range(NUM_EPOCHS_ADV):\n",
    "    total_loss_a = 0\n",
    "    num = 0\n",
    "    for batch in train_loader:\n",
    "      x, s = batch[:, 0:-1], batch[:, -1].long()\n",
    "      \n",
    "      x_hat = model_gen(x.float())\n",
    "      \n",
    "      s_pred = model_adv(x_hat)\n",
    "\n",
    "      loss_a = loss_adv(s_pred, s)\n",
    "      num += 1\n",
    "      total_loss_a += loss_a\n",
    "      \n",
    "      optim_adv.zero_grad()\n",
    "      loss_a.backward(retain_graph=True)\n",
    "      optim_adv.step()\n",
    "    epch_loss = (total_loss_a/num).item()\n",
    "    loss_by_epoch_a.append(epch_loss)\n",
    "    print(\"Adv loss: \", (total_loss_a/num).item())\n",
    "  print(\"\\n\")  "
   ]
  },
  {
   "cell_type": "code",
   "execution_count": 13,
   "metadata": {
    "colab": {
     "base_uri": "https://localhost:8080/",
     "height": 428
    },
    "colab_type": "code",
    "id": "u7cKU9akwXbZ",
    "outputId": "e1afac70-7c20-46fe-c780-84e623272e03"
   },
   "outputs": [
    {
     "data": {
      "text/plain": [
       "[Text(0, 0.5, 'Generator Loss'),\n",
       " Text(0.5, 0, 'Epochs'),\n",
       " Text(0.5, 1.0, 'Generator Loss Curve W/ D=7')]"
      ]
     },
     "execution_count": 13,
     "metadata": {},
     "output_type": "execute_result"
    },
    {
     "data": {
      "image/png": "[encoded data removed]",
      "text/plain": [
       "<Figure size 432x288 with 1 Axes>"
      ]
     },
     "metadata": {
      "needs_background": "light"
     },
     "output_type": "display_data"
    }
   ],
   "source": [
    "ax = plt.axes()\n",
    "ax.plot(range(NUM_TOTAL_ITER * NUM_EPOCHS_GEN), loss_by_epoch_g)\n",
    "ax.set(xlabel=\"Epochs\", ylabel=\"Generator Loss\", Title=\"Generator Loss Curve W/ D=7\")"
   ]
  },
  {
   "cell_type": "code",
   "execution_count": 14,
   "metadata": {
    "colab": {
     "base_uri": "https://localhost:8080/",
     "height": 428
    },
    "colab_type": "code",
    "id": "FjHnjopBwzDq",
    "outputId": "af8e3423-1e7f-490c-b4c1-2f648e1e0678"
   },
   "outputs": [
    {
     "data": {
      "text/plain": [
       "[Text(0, 0.5, 'Adversary Loss'),\n",
       " Text(0.5, 0, 'Epochs'),\n",
       " Text(0.5, 1.0, 'Adversary Loss Curve')]"
      ]
     },
     "execution_count": 14,
     "metadata": {},
     "output_type": "execute_result"
    },
    {
     "data": {
      "image/png": "[encoded data removed]",
      "text/plain": [
       "<Figure size 432x288 with 1 Axes>"
      ]
     },
     "metadata": {
      "needs_background": "light"
     },
     "output_type": "display_data"
    }
   ],
   "source": [
    "ax = plt.axes()\n",
    "ax.plot(range(NUM_TOTAL_ITER * NUM_EPOCHS_ADV), loss_by_epoch_a)\n",
    "ax.set(xlabel=\"Epochs\", ylabel=\"Adversary Loss\", Title=\"Adversary Loss Curve\")"
   ]
  },
  {
   "cell_type": "markdown",
   "metadata": {
    "colab_type": "text",
    "id": "tGuCZ_g2NJeB"
   },
   "source": [
    "# Testing\n",
    "## Test Adversary before and after decorrelation"
   ]
  },
  {
   "cell_type": "code",
   "execution_count": 15,
   "metadata": {
    "colab": {
     "base_uri": "https://localhost:8080/",
     "height": 34
    },
    "colab_type": "code",
    "id": "mvY9HkCNOUGP",
    "outputId": "4255bdba-9ab8-49ad-a889-bcff6f8ec594"
   },
   "outputs": [
    {
     "name": "stdout",
     "output_type": "stream",
     "text": [
      "0.6353373231773667\n"
     ]
    }
   ],
   "source": [
    "out_class = model_adv(X_tensor.float())\n",
    "v, i = torch.max(out_class, 1)\n",
    "print((s_tensor.squeeze().int() == i.int()).nonzero().shape[0]/s_tensor.shape[0])"
   ]
  },
  {
   "cell_type": "code",
   "execution_count": 16,
   "metadata": {
    "colab": {
     "base_uri": "https://localhost:8080/",
     "height": 34
    },
    "colab_type": "code",
    "id": "vv1BVNCJNM2h",
    "outputId": "6f34084f-e440-4813-e493-d86b77199461"
   },
   "outputs": [
    {
     "name": "stdout",
     "output_type": "stream",
     "text": [
      "0.4771490750816104\n"
     ]
    }
   ],
   "source": [
    "gen_noised = model_gen(noised_tensor.float())\n",
    "\n",
    "out_class = model_adv(gen_noised.float())\n",
    "v, i = torch.max(out_class, 1)\n",
    "print((s_tensor.squeeze().int() == i.int()).nonzero().shape[0]/s_tensor.shape[0])"
   ]
  },
  {
   "cell_type": "markdown",
   "metadata": {
    "colab_type": "text",
    "id": "xU2EPwMrNNc7"
   },
   "source": [
    "## Test Classifier Before and After Decorrelation"
   ]
  },
  {
   "cell_type": "markdown",
   "metadata": {
    "colab_type": "text",
    "id": "iXp6RnXLPUQa"
   },
   "source": [
    "### Before"
   ]
  },
  {
   "cell_type": "code",
   "execution_count": null,
   "metadata": {
    "colab": {
     "base_uri": "https://localhost:8080/",
     "height": 384
    },
    "colab_type": "code",
    "id": "tQgO2UqtNPfQ",
    "outputId": "b6ff98a8-7720-4078-fe34-39d081383fe6"
   },
   "outputs": [
    {
     "name": "stderr",
     "output_type": "stream",
     "text": [
      "/usr/local/lib/python3.6/dist-packages/ipykernel_launcher.py:20: UserWarning: invalid index of a 0-dim tensor. This will be an error in PyTorch 0.5. Use tensor.item() to convert a 0-dim tensor to a Python number\n"
     ]
    },
    {
     "name": "stdout",
     "output_type": "stream",
     "text": [
      "loss:  tensor(0.6459, device='cuda:0')\n",
      "loss:  tensor(0.1994, device='cuda:0')\n",
      "loss:  tensor(0.1168, device='cuda:0')\n",
      "loss:  tensor(0.0851, device='cuda:0')\n",
      "loss:  tensor(0.0632, device='cuda:0')\n",
      "loss:  tensor(0.0522, device='cuda:0')\n",
      "loss:  tensor(0.0491, device='cuda:0')\n",
      "loss:  tensor(0.0460, device='cuda:0')\n",
      "loss:  tensor(0.0402, device='cuda:0')\n",
      "loss:  tensor(0.0358, device='cuda:0')\n",
      "loss:  tensor(0.0389, device='cuda:0')\n",
      "loss:  tensor(0.0344, device='cuda:0')\n",
      "loss:  tensor(0.0339, device='cuda:0')\n",
      "loss:  tensor(0.0299, device='cuda:0')\n",
      "loss:  tensor(0.0296, device='cuda:0')\n",
      "loss:  tensor(0.0241, device='cuda:0')\n",
      "loss:  tensor(0.0247, device='cuda:0')\n",
      "loss:  tensor(0.0245, device='cuda:0')\n",
      "loss:  tensor(0.0221, device='cuda:0')\n",
      "loss:  tensor(0.0152, device='cuda:0')\n"
     ]
    }
   ],
   "source": [
    "class_loader = torch.utils.data.DataLoader(\n",
    "    torch.cat((X_tensor, y_tensor), 1), \n",
    "    batch_size=512, \n",
    "    shuffle=True)\n",
    "\n",
    "for epoch in range(20):\n",
    "  loss_avg = 0\n",
    "  num = 0\n",
    "  for batch in class_loader:\n",
    "    x, y = batch[:, 0:-1], batch[:, -1]\n",
    "    y_pred = model_class(x.float())\n",
    "\n",
    "    loss = loss_class(y_pred, y.long())\n",
    "    loss_avg += loss\n",
    "    num += 1\n",
    "\n",
    "    optim_class.zero_grad()\n",
    "    loss.backward()\n",
    "    optim_class.step()\n",
    "  print(\"loss: \", (loss_avg/num).item())"
   ]
  },
  {
   "cell_type": "code",
   "execution_count": null,
   "metadata": {
    "colab": {
     "base_uri": "https://localhost:8080/",
     "height": 34
    },
    "colab_type": "code",
    "id": "WPK7X3LHOALe",
    "outputId": "ab426802-8d5c-4d90-a28e-4ca1054cd7fd"
   },
   "outputs": [
    {
     "name": "stdout",
     "output_type": "stream",
     "text": [
      "0.9589412962334578\n"
     ]
    }
   ],
   "source": [
    "out_class = model_class(X_tensor_test.float())\n",
    "v, i = torch.max(out_class, 1)\n",
    "print((y_tensor_test.squeeze().int() == i.int()).nonzero().shape[0]/y_tensor_test.shape[0])"
   ]
  },
  {
   "cell_type": "markdown",
   "metadata": {
    "colab_type": "text",
    "id": "fVJmzScUPWRV"
   },
   "source": [
    "### After"
   ]
  },
  {
   "cell_type": "code",
   "execution_count": null,
   "metadata": {
    "colab": {
     "base_uri": "https://localhost:8080/",
     "height": 367
    },
    "colab_type": "code",
    "id": "9pN8lxieOnt0",
    "outputId": "9360182c-8ef4-433c-9c52-2501e886b19b"
   },
   "outputs": [
    {
     "name": "stdout",
     "output_type": "stream",
     "text": [
      "loss:  0.6359238624572754\n",
      "loss:  0.22694246470928192\n",
      "loss:  0.13943733274936676\n",
      "loss:  0.1030813604593277\n",
      "loss:  0.08952376246452332\n",
      "loss:  0.08020778000354767\n",
      "loss:  0.06571952998638153\n",
      "loss:  0.06776061654090881\n",
      "loss:  0.05831295996904373\n",
      "loss:  0.0489499606192112\n",
      "loss:  0.047430653125047684\n",
      "loss:  0.04686059057712555\n",
      "loss:  0.04153882712125778\n",
      "loss:  0.03858698159456253\n",
      "loss:  0.04043963924050331\n",
      "loss:  0.05129847303032875\n",
      "loss:  0.053298063576221466\n",
      "loss:  0.03892166167497635\n",
      "loss:  0.03216115012764931\n",
      "loss:  0.027386115863919258\n"
     ]
    }
   ],
   "source": [
    "model_class = torch.nn.Sequential(\n",
    "          # Layer 1 - 561 -> 512\n",
    "          torch.nn.Linear(561, 512),\n",
    "          torch.nn.LeakyReLU(),\n",
    "          torch.nn.BatchNorm1d(512),\n",
    "          # Layer 2 - 512 -> 512\n",
    "          torch.nn.Linear(512, 512),\n",
    "          torch.nn.LeakyReLU(),\n",
    "          torch.nn.BatchNorm1d(512),\n",
    "          # Layer 3 - 512 -> 256\n",
    "          torch.nn.Linear(512, 256),\n",
    "          torch.nn.LeakyReLU(),\n",
    "          torch.nn.BatchNorm1d(256),\n",
    "          # Layer 4 - 256 -> 128\n",
    "          torch.nn.Linear(256, 128),\n",
    "          torch.nn.LeakyReLU(),\n",
    "          torch.nn.BatchNorm1d(128),\n",
    "          # Output - 128 -> 6\n",
    "          torch.nn.Linear(128, 6),\n",
    "        ).to(device)\n",
    "\n",
    "optim_class = torch.optim.Adam(model_class.parameters())\n",
    "loss_class = torch.nn.CrossEntropyLoss()\n",
    "\n",
    "gen_noised = model_gen(noised_tensor.float())\n",
    "\n",
    "class_loader = torch.utils.data.DataLoader(\n",
    "    torch.cat((gen_noised.float(), y_tensor.float()), 1), \n",
    "    batch_size=512, \n",
    "    shuffle=True)\n",
    "\n",
    "for epoch in range(20):\n",
    "  loss_avg = 0\n",
    "  num = 0\n",
    "  for batch in class_loader:\n",
    "    x, y = batch[:, 0:-1], batch[:, -1]\n",
    "    y_pred = model_class(x.float())\n",
    "\n",
    "    loss = loss_class(y_pred, y.long())\n",
    "    loss_avg += loss\n",
    "    num += 1\n",
    "\n",
    "    optim_class.zero_grad()\n",
    "    loss.backward(retain_graph=True)\n",
    "    optim_class.step()\n",
    "  print(\"loss: \", (loss_avg/num).item())"
   ]
  },
  {
   "cell_type": "code",
   "execution_count": null,
   "metadata": {
    "colab": {
     "base_uri": "https://localhost:8080/",
     "height": 34
    },
    "colab_type": "code",
    "id": "d3jsTYFcPkCl",
    "outputId": "e1e6b410-3444-4e32-b96c-e1c9ef60b19f"
   },
   "outputs": [
    {
     "name": "stdout",
     "output_type": "stream",
     "text": [
      "0.9477434679334917\n"
     ]
    }
   ],
   "source": [
    "out_class = model_class(X_tensor_test.float())\n",
    "v, i = torch.max(out_class, 1)\n",
    "print((y_tensor_test.squeeze().int() == i.int()).nonzero().shape[0]/y_tensor_test.shape[0])"
   ]
  }
 ],
 "metadata": {
  "accelerator": "GPU",
  "colab": {
   "collapsed_sections": [],
   "name": "ICLR Reproducibility Challenge Private and Fair Representations (GAN)",
   "provenance": [],
   "version": "0.3.2"
  },
  "kernelspec": {
   "display_name": "Python 3",
   "language": "python",
   "name": "python3"
  },
  "language_info": {
   "codemirror_mode": {
    "name": "ipython",
    "version": 3
   },
   "file_extension": ".py",
   "mimetype": "text/x-python",
   "name": "python",
   "nbconvert_exporter": "python",
   "pygments_lexer": "ipython3",
   "version": "3.6.7"
  }
 },
 "nbformat": 4,
 "nbformat_minor": 2
}
